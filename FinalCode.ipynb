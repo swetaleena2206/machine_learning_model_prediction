{
 "cells": [
  {
   "cell_type": "markdown",
   "metadata": {},
   "source": [
    "### Importing libraries"
   ]
  },
  {
   "cell_type": "code",
   "execution_count": 1,
   "metadata": {},
   "outputs": [],
   "source": [
    "import pandas as pd\n",
    "import numpy as np\n",
    "import matplotlib.pyplot as plt\n",
    "import seaborn as sns\n",
    "from sklearn.preprocessing import LabelEncoder\n",
    "pd.set_option('display.max_rows', 500)\n",
    "pd.set_option('display.max_columns', 500)\n",
    "pd.set_option('display.width', 1000)"
   ]
  },
  {
   "cell_type": "markdown",
   "metadata": {},
   "source": [
    "###  Importing the datasets"
   ]
  },
  {
   "cell_type": "code",
   "execution_count": 2,
   "metadata": {},
   "outputs": [
    {
     "name": "stderr",
     "output_type": "stream",
     "text": [
      "C:\\Users\\Swetaleena Satpathy\\anaconda\\lib\\site-packages\\IPython\\core\\interactiveshell.py:3063: DtypeWarning: Columns (9) have mixed types.Specify dtype option on import or set low_memory=False.\n",
      "  interactivity=interactivity, compiler=compiler, result=result)\n"
     ]
    },
    {
     "data": {
      "text/html": [
       "<div>\n",
       "<style scoped>\n",
       "    .dataframe tbody tr th:only-of-type {\n",
       "        vertical-align: middle;\n",
       "    }\n",
       "\n",
       "    .dataframe tbody tr th {\n",
       "        vertical-align: top;\n",
       "    }\n",
       "\n",
       "    .dataframe thead th {\n",
       "        text-align: right;\n",
       "    }\n",
       "</style>\n",
       "<table border=\"1\" class=\"dataframe\">\n",
       "  <thead>\n",
       "    <tr style=\"text-align: right;\">\n",
       "      <th></th>\n",
       "      <th>ID</th>\n",
       "      <th>LICENSE ID</th>\n",
       "      <th>ACCOUNT NUMBER</th>\n",
       "      <th>SITE NUMBER</th>\n",
       "      <th>LEGAL NAME</th>\n",
       "      <th>DOING BUSINESS AS NAME</th>\n",
       "      <th>ADDRESS</th>\n",
       "      <th>CITY</th>\n",
       "      <th>STATE</th>\n",
       "      <th>ZIP CODE</th>\n",
       "      <th>WARD</th>\n",
       "      <th>PRECINCT</th>\n",
       "      <th>WARD PRECINCT</th>\n",
       "      <th>POLICE DISTRICT</th>\n",
       "      <th>LICENSE CODE</th>\n",
       "      <th>LICENSE DESCRIPTION</th>\n",
       "      <th>LICENSE NUMBER</th>\n",
       "      <th>APPLICATION TYPE</th>\n",
       "      <th>APPLICATION CREATED DATE</th>\n",
       "      <th>APPLICATION REQUIREMENTS COMPLETE</th>\n",
       "      <th>PAYMENT DATE</th>\n",
       "      <th>CONDITIONAL APPROVAL</th>\n",
       "      <th>LICENSE TERM START DATE</th>\n",
       "      <th>LICENSE TERM EXPIRATION DATE</th>\n",
       "      <th>LICENSE APPROVED FOR ISSUANCE</th>\n",
       "      <th>DATE ISSUED</th>\n",
       "      <th>LICENSE STATUS CHANGE DATE</th>\n",
       "      <th>SSA</th>\n",
       "      <th>LATITUDE</th>\n",
       "      <th>LONGITUDE</th>\n",
       "      <th>LOCATION</th>\n",
       "      <th>LICENSE STATUS</th>\n",
       "    </tr>\n",
       "  </thead>\n",
       "  <tbody>\n",
       "    <tr>\n",
       "      <th>0</th>\n",
       "      <td>35342-20020816</td>\n",
       "      <td>1256593</td>\n",
       "      <td>32811</td>\n",
       "      <td>1</td>\n",
       "      <td>CARMEN CAHUE</td>\n",
       "      <td>CLAUDIA'S BRIDAL SHOP</td>\n",
       "      <td>2625 S CENTRAL PARK AVE  1</td>\n",
       "      <td>CHICAGO</td>\n",
       "      <td>IL</td>\n",
       "      <td>60623.0</td>\n",
       "      <td>22.0</td>\n",
       "      <td>28.0</td>\n",
       "      <td>22-28</td>\n",
       "      <td>10.0</td>\n",
       "      <td>1010</td>\n",
       "      <td>Limited Business License</td>\n",
       "      <td>35342.0</td>\n",
       "      <td>RENEW</td>\n",
       "      <td>NaN</td>\n",
       "      <td>2002-06-28T00:00:00</td>\n",
       "      <td>2002-08-21T00:00:00</td>\n",
       "      <td>N</td>\n",
       "      <td>2002-08-16T00:00:00</td>\n",
       "      <td>2003-08-15T00:00:00</td>\n",
       "      <td>2002-08-21T00:00:00</td>\n",
       "      <td>2006-04-11T00:00:00</td>\n",
       "      <td>NaN</td>\n",
       "      <td>25.0</td>\n",
       "      <td>41.843613</td>\n",
       "      <td>-87.714618</td>\n",
       "      <td>{'latitude': '41.843612879431845', 'longitude'...</td>\n",
       "      <td>AAI</td>\n",
       "    </tr>\n",
       "    <tr>\n",
       "      <th>1</th>\n",
       "      <td>1358463-20051116</td>\n",
       "      <td>1639294</td>\n",
       "      <td>262311</td>\n",
       "      <td>29</td>\n",
       "      <td>ISLA TROPICAL, INC.</td>\n",
       "      <td>ISLA TROPICAL</td>\n",
       "      <td>2825 W MONTROSE AVE</td>\n",
       "      <td>CHICAGO</td>\n",
       "      <td>IL</td>\n",
       "      <td>60618</td>\n",
       "      <td>33.0</td>\n",
       "      <td>23.0</td>\n",
       "      <td>33-23</td>\n",
       "      <td>17.0</td>\n",
       "      <td>1315</td>\n",
       "      <td>Mobile Food Dispenser</td>\n",
       "      <td>1358463.0</td>\n",
       "      <td>RENEW</td>\n",
       "      <td>NaN</td>\n",
       "      <td>2005-09-22T00:00:00</td>\n",
       "      <td>2005-11-03T00:00:00</td>\n",
       "      <td>N</td>\n",
       "      <td>2005-11-16T00:00:00</td>\n",
       "      <td>2006-11-15T00:00:00</td>\n",
       "      <td>2006-04-05T00:00:00</td>\n",
       "      <td>2006-06-12T00:00:00</td>\n",
       "      <td>2006-06-15T00:00:00</td>\n",
       "      <td>60.0</td>\n",
       "      <td>41.961132</td>\n",
       "      <td>-87.699626</td>\n",
       "      <td>{'latitude': '41.96113244107215', 'longitude':...</td>\n",
       "      <td>AAC</td>\n",
       "    </tr>\n",
       "    <tr>\n",
       "      <th>2</th>\n",
       "      <td>1980233-20090722</td>\n",
       "      <td>1980233</td>\n",
       "      <td>345008</td>\n",
       "      <td>1</td>\n",
       "      <td>DJS REMODELING</td>\n",
       "      <td>DJS REMODELING, INC.</td>\n",
       "      <td>1605  CLAVEY RD 1</td>\n",
       "      <td>HIGHLAND</td>\n",
       "      <td>IL</td>\n",
       "      <td>60035</td>\n",
       "      <td>NaN</td>\n",
       "      <td>NaN</td>\n",
       "      <td>NaN</td>\n",
       "      <td>NaN</td>\n",
       "      <td>1011</td>\n",
       "      <td>Home Repair</td>\n",
       "      <td>1980233.0</td>\n",
       "      <td>ISSUE</td>\n",
       "      <td>2009-06-29T00:00:00</td>\n",
       "      <td>2009-07-22T00:00:00</td>\n",
       "      <td>2009-07-22T00:00:00</td>\n",
       "      <td>N</td>\n",
       "      <td>2009-07-22T00:00:00</td>\n",
       "      <td>2011-07-15T00:00:00</td>\n",
       "      <td>2009-07-22T00:00:00</td>\n",
       "      <td>2009-07-22T00:00:00</td>\n",
       "      <td>NaN</td>\n",
       "      <td>NaN</td>\n",
       "      <td>NaN</td>\n",
       "      <td>NaN</td>\n",
       "      <td>NaN</td>\n",
       "      <td>AAI</td>\n",
       "    </tr>\n",
       "    <tr>\n",
       "      <th>3</th>\n",
       "      <td>1476582-20040211</td>\n",
       "      <td>1476582</td>\n",
       "      <td>273121</td>\n",
       "      <td>1</td>\n",
       "      <td>ALL-BRY CONSTRUCTION CO.</td>\n",
       "      <td>ALL-BRY CONSTRUCTION CO.</td>\n",
       "      <td>8  NORTH TRAIL</td>\n",
       "      <td>LEMONT</td>\n",
       "      <td>IL</td>\n",
       "      <td>60439</td>\n",
       "      <td>NaN</td>\n",
       "      <td>NaN</td>\n",
       "      <td>NaN</td>\n",
       "      <td>NaN</td>\n",
       "      <td>1010</td>\n",
       "      <td>Limited Business License</td>\n",
       "      <td>1476582.0</td>\n",
       "      <td>ISSUE</td>\n",
       "      <td>2004-02-10T00:00:00</td>\n",
       "      <td>2004-02-10T00:00:00</td>\n",
       "      <td>2004-02-10T00:00:00</td>\n",
       "      <td>N</td>\n",
       "      <td>2004-02-11T00:00:00</td>\n",
       "      <td>2005-02-15T00:00:00</td>\n",
       "      <td>2004-02-10T00:00:00</td>\n",
       "      <td>2004-02-11T00:00:00</td>\n",
       "      <td>NaN</td>\n",
       "      <td>NaN</td>\n",
       "      <td>NaN</td>\n",
       "      <td>NaN</td>\n",
       "      <td>NaN</td>\n",
       "      <td>AAI</td>\n",
       "    </tr>\n",
       "    <tr>\n",
       "      <th>4</th>\n",
       "      <td>1141408-20080516</td>\n",
       "      <td>1896750</td>\n",
       "      <td>213785</td>\n",
       "      <td>1</td>\n",
       "      <td>MCDONOUGH MECHANICAL SERVICE</td>\n",
       "      <td>MCDONOUGH MECHANICAL SERVICE</td>\n",
       "      <td>4081  JOSEPH DR</td>\n",
       "      <td>WAUKEGAN</td>\n",
       "      <td>IL</td>\n",
       "      <td>60087</td>\n",
       "      <td>NaN</td>\n",
       "      <td>NaN</td>\n",
       "      <td>NaN</td>\n",
       "      <td>NaN</td>\n",
       "      <td>1010</td>\n",
       "      <td>Limited Business License</td>\n",
       "      <td>1141408.0</td>\n",
       "      <td>RENEW</td>\n",
       "      <td>NaN</td>\n",
       "      <td>2008-03-24T00:00:00</td>\n",
       "      <td>2008-06-04T00:00:00</td>\n",
       "      <td>N</td>\n",
       "      <td>2008-05-16T00:00:00</td>\n",
       "      <td>2010-05-15T00:00:00</td>\n",
       "      <td>2008-06-04T00:00:00</td>\n",
       "      <td>2008-06-05T00:00:00</td>\n",
       "      <td>NaN</td>\n",
       "      <td>NaN</td>\n",
       "      <td>NaN</td>\n",
       "      <td>NaN</td>\n",
       "      <td>NaN</td>\n",
       "      <td>AAI</td>\n",
       "    </tr>\n",
       "  </tbody>\n",
       "</table>\n",
       "</div>"
      ],
      "text/plain": [
       "                 ID  LICENSE ID  ACCOUNT NUMBER  SITE NUMBER                    LEGAL NAME        DOING BUSINESS AS NAME                     ADDRESS      CITY STATE ZIP CODE  WARD  PRECINCT WARD PRECINCT  POLICE DISTRICT  LICENSE CODE       LICENSE DESCRIPTION  LICENSE NUMBER APPLICATION TYPE APPLICATION CREATED DATE APPLICATION REQUIREMENTS COMPLETE         PAYMENT DATE CONDITIONAL APPROVAL LICENSE TERM START DATE LICENSE TERM EXPIRATION DATE LICENSE APPROVED FOR ISSUANCE          DATE ISSUED LICENSE STATUS CHANGE DATE   SSA   LATITUDE  LONGITUDE                                           LOCATION LICENSE STATUS\n",
       "0    35342-20020816     1256593           32811            1                  CARMEN CAHUE         CLAUDIA'S BRIDAL SHOP  2625 S CENTRAL PARK AVE  1   CHICAGO    IL  60623.0  22.0      28.0         22-28             10.0          1010  Limited Business License         35342.0            RENEW                      NaN               2002-06-28T00:00:00  2002-08-21T00:00:00                    N     2002-08-16T00:00:00          2003-08-15T00:00:00           2002-08-21T00:00:00  2006-04-11T00:00:00                        NaN  25.0  41.843613 -87.714618  {'latitude': '41.843612879431845', 'longitude'...            AAI\n",
       "1  1358463-20051116     1639294          262311           29           ISLA TROPICAL, INC.                 ISLA TROPICAL         2825 W MONTROSE AVE   CHICAGO    IL    60618  33.0      23.0         33-23             17.0          1315     Mobile Food Dispenser       1358463.0            RENEW                      NaN               2005-09-22T00:00:00  2005-11-03T00:00:00                    N     2005-11-16T00:00:00          2006-11-15T00:00:00           2006-04-05T00:00:00  2006-06-12T00:00:00        2006-06-15T00:00:00  60.0  41.961132 -87.699626  {'latitude': '41.96113244107215', 'longitude':...            AAC\n",
       "2  1980233-20090722     1980233          345008            1                DJS REMODELING          DJS REMODELING, INC.           1605  CLAVEY RD 1  HIGHLAND    IL    60035   NaN       NaN           NaN              NaN          1011               Home Repair       1980233.0            ISSUE      2009-06-29T00:00:00               2009-07-22T00:00:00  2009-07-22T00:00:00                    N     2009-07-22T00:00:00          2011-07-15T00:00:00           2009-07-22T00:00:00  2009-07-22T00:00:00                        NaN   NaN        NaN        NaN                                                NaN            AAI\n",
       "3  1476582-20040211     1476582          273121            1      ALL-BRY CONSTRUCTION CO.      ALL-BRY CONSTRUCTION CO.              8  NORTH TRAIL    LEMONT    IL    60439   NaN       NaN           NaN              NaN          1010  Limited Business License       1476582.0            ISSUE      2004-02-10T00:00:00               2004-02-10T00:00:00  2004-02-10T00:00:00                    N     2004-02-11T00:00:00          2005-02-15T00:00:00           2004-02-10T00:00:00  2004-02-11T00:00:00                        NaN   NaN        NaN        NaN                                                NaN            AAI\n",
       "4  1141408-20080516     1896750          213785            1  MCDONOUGH MECHANICAL SERVICE  MCDONOUGH MECHANICAL SERVICE             4081  JOSEPH DR  WAUKEGAN    IL    60087   NaN       NaN           NaN              NaN          1010  Limited Business License       1141408.0            RENEW                      NaN               2008-03-24T00:00:00  2008-06-04T00:00:00                    N     2008-05-16T00:00:00          2010-05-15T00:00:00           2008-06-04T00:00:00  2008-06-05T00:00:00                        NaN   NaN        NaN        NaN                                                NaN            AAI"
      ]
     },
     "execution_count": 2,
     "metadata": {},
     "output_type": "execute_result"
    }
   ],
   "source": [
    "train_data = pd.read_csv(\"train_file.csv\")\n",
    "train_data.head()\n"
   ]
  },
  {
   "cell_type": "code",
   "execution_count": 3,
   "metadata": {},
   "outputs": [
    {
     "data": {
      "text/html": [
       "<div>\n",
       "<style scoped>\n",
       "    .dataframe tbody tr th:only-of-type {\n",
       "        vertical-align: middle;\n",
       "    }\n",
       "\n",
       "    .dataframe tbody tr th {\n",
       "        vertical-align: top;\n",
       "    }\n",
       "\n",
       "    .dataframe thead th {\n",
       "        text-align: right;\n",
       "    }\n",
       "</style>\n",
       "<table border=\"1\" class=\"dataframe\">\n",
       "  <thead>\n",
       "    <tr style=\"text-align: right;\">\n",
       "      <th></th>\n",
       "      <th>ID</th>\n",
       "      <th>LICENSE ID</th>\n",
       "      <th>ACCOUNT NUMBER</th>\n",
       "      <th>SITE NUMBER</th>\n",
       "      <th>LEGAL NAME</th>\n",
       "      <th>DOING BUSINESS AS NAME</th>\n",
       "      <th>ADDRESS</th>\n",
       "      <th>CITY</th>\n",
       "      <th>STATE</th>\n",
       "      <th>ZIP CODE</th>\n",
       "      <th>WARD</th>\n",
       "      <th>PRECINCT</th>\n",
       "      <th>WARD PRECINCT</th>\n",
       "      <th>POLICE DISTRICT</th>\n",
       "      <th>LICENSE CODE</th>\n",
       "      <th>LICENSE DESCRIPTION</th>\n",
       "      <th>LICENSE NUMBER</th>\n",
       "      <th>APPLICATION TYPE</th>\n",
       "      <th>APPLICATION CREATED DATE</th>\n",
       "      <th>APPLICATION REQUIREMENTS COMPLETE</th>\n",
       "      <th>PAYMENT DATE</th>\n",
       "      <th>CONDITIONAL APPROVAL</th>\n",
       "      <th>LICENSE TERM START DATE</th>\n",
       "      <th>LICENSE TERM EXPIRATION DATE</th>\n",
       "      <th>LICENSE APPROVED FOR ISSUANCE</th>\n",
       "      <th>DATE ISSUED</th>\n",
       "      <th>LICENSE STATUS CHANGE DATE</th>\n",
       "      <th>SSA</th>\n",
       "      <th>LATITUDE</th>\n",
       "      <th>LONGITUDE</th>\n",
       "      <th>LOCATION</th>\n",
       "    </tr>\n",
       "  </thead>\n",
       "  <tbody>\n",
       "    <tr>\n",
       "      <th>0</th>\n",
       "      <td>1516615-20120216</td>\n",
       "      <td>2132209</td>\n",
       "      <td>280120</td>\n",
       "      <td>1</td>\n",
       "      <td>RS HOMES I LLC</td>\n",
       "      <td>RS HOMES I LLC</td>\n",
       "      <td>350 W HUBBARD ST 3 300</td>\n",
       "      <td>CHICAGO</td>\n",
       "      <td>IL</td>\n",
       "      <td>60610.0</td>\n",
       "      <td>42.0</td>\n",
       "      <td>67.0</td>\n",
       "      <td>42-67</td>\n",
       "      <td>18.0</td>\n",
       "      <td>1020</td>\n",
       "      <td>Residential Real Estate Developer</td>\n",
       "      <td>1516615.0</td>\n",
       "      <td>RENEW</td>\n",
       "      <td>NaN</td>\n",
       "      <td>2011-12-15T00:00:00</td>\n",
       "      <td>2012-01-19T00:00:00</td>\n",
       "      <td>N</td>\n",
       "      <td>2012-02-16T00:00:00</td>\n",
       "      <td>2014-02-15T00:00:00</td>\n",
       "      <td>2012-01-19T00:00:00</td>\n",
       "      <td>2012-01-20T00:00:00</td>\n",
       "      <td>2012-12-29T00:00:00</td>\n",
       "      <td>NaN</td>\n",
       "      <td>41.890047</td>\n",
       "      <td>-87.637467</td>\n",
       "      <td>{'latitude': '41.89004724888915', 'longitude':...</td>\n",
       "    </tr>\n",
       "    <tr>\n",
       "      <th>1</th>\n",
       "      <td>69813-20110616</td>\n",
       "      <td>2090759</td>\n",
       "      <td>65043</td>\n",
       "      <td>1</td>\n",
       "      <td>CSX INTERMODAL INC</td>\n",
       "      <td>CSX INTERMODAL</td>\n",
       "      <td>2101 W 59TH ST 1ST</td>\n",
       "      <td>CHICAGO</td>\n",
       "      <td>IL</td>\n",
       "      <td>60636.0</td>\n",
       "      <td>16.0</td>\n",
       "      <td>5.0</td>\n",
       "      <td>16-5</td>\n",
       "      <td>7.0</td>\n",
       "      <td>1010</td>\n",
       "      <td>Limited Business License</td>\n",
       "      <td>69813.0</td>\n",
       "      <td>RENEW</td>\n",
       "      <td>NaN</td>\n",
       "      <td>2011-04-15T00:00:00</td>\n",
       "      <td>2012-11-02T00:00:00</td>\n",
       "      <td>N</td>\n",
       "      <td>2011-06-16T00:00:00</td>\n",
       "      <td>2013-06-15T00:00:00</td>\n",
       "      <td>2012-11-02T00:00:00</td>\n",
       "      <td>2012-11-05T00:00:00</td>\n",
       "      <td>2012-12-29T00:00:00</td>\n",
       "      <td>NaN</td>\n",
       "      <td>41.786485</td>\n",
       "      <td>-87.676665</td>\n",
       "      <td>{'latitude': '41.786485235679486', 'longitude'...</td>\n",
       "    </tr>\n",
       "    <tr>\n",
       "      <th>2</th>\n",
       "      <td>1519227-20041116</td>\n",
       "      <td>1541990</td>\n",
       "      <td>281270</td>\n",
       "      <td>1</td>\n",
       "      <td>LOCOMIBILE  LOFTS LLC</td>\n",
       "      <td>LOCOMOBILE LOFTS LLC</td>\n",
       "      <td>1133 S WABASH AVE 1ST</td>\n",
       "      <td>CHICAGO</td>\n",
       "      <td>IL</td>\n",
       "      <td>60605.0</td>\n",
       "      <td>4.0</td>\n",
       "      <td>8.0</td>\n",
       "      <td>4-8</td>\n",
       "      <td>1.0</td>\n",
       "      <td>1020</td>\n",
       "      <td>Residential Real Estate Developer</td>\n",
       "      <td>1519227.0</td>\n",
       "      <td>RENEW</td>\n",
       "      <td>NaN</td>\n",
       "      <td>2004-09-27T00:00:00</td>\n",
       "      <td>2004-12-06T00:00:00</td>\n",
       "      <td>N</td>\n",
       "      <td>2004-11-16T00:00:00</td>\n",
       "      <td>2005-11-15T00:00:00</td>\n",
       "      <td>2004-12-06T00:00:00</td>\n",
       "      <td>2004-12-07T00:00:00</td>\n",
       "      <td>NaN</td>\n",
       "      <td>NaN</td>\n",
       "      <td>41.868269</td>\n",
       "      <td>-87.625695</td>\n",
       "      <td>{'latitude': '41.86826924843568', 'longitude':...</td>\n",
       "    </tr>\n",
       "    <tr>\n",
       "      <th>3</th>\n",
       "      <td>1922025-20100816</td>\n",
       "      <td>2041053</td>\n",
       "      <td>335243</td>\n",
       "      <td>1</td>\n",
       "      <td>ANNA F. JAMISON</td>\n",
       "      <td>ANNA F. JAMISON</td>\n",
       "      <td>13156 S FORRESTVILLE AVE</td>\n",
       "      <td>CHICAGO</td>\n",
       "      <td>IL</td>\n",
       "      <td>60827.0</td>\n",
       "      <td>9.0</td>\n",
       "      <td>33.0</td>\n",
       "      <td>9-33</td>\n",
       "      <td>5.0</td>\n",
       "      <td>1607</td>\n",
       "      <td>Peddler, non-food, special</td>\n",
       "      <td>1922025.0</td>\n",
       "      <td>RENEW</td>\n",
       "      <td>NaN</td>\n",
       "      <td>2010-06-15T00:00:00</td>\n",
       "      <td>2010-11-04T00:00:00</td>\n",
       "      <td>N</td>\n",
       "      <td>2010-08-16T00:00:00</td>\n",
       "      <td>2012-08-15T00:00:00</td>\n",
       "      <td>NaN</td>\n",
       "      <td>2010-11-04T00:00:00</td>\n",
       "      <td>2012-12-31T00:00:00</td>\n",
       "      <td>NaN</td>\n",
       "      <td>41.655762</td>\n",
       "      <td>-87.608686</td>\n",
       "      <td>{'latitude': '41.65576175146191', 'longitude':...</td>\n",
       "    </tr>\n",
       "    <tr>\n",
       "      <th>4</th>\n",
       "      <td>1675683-20070816</td>\n",
       "      <td>1837158</td>\n",
       "      <td>283018</td>\n",
       "      <td>3</td>\n",
       "      <td>MARINCA A. COVARRUBIAS</td>\n",
       "      <td>DETAILS</td>\n",
       "      <td>4208 S ARCHER AVE</td>\n",
       "      <td>CHICAGO</td>\n",
       "      <td>IL</td>\n",
       "      <td>60632.0</td>\n",
       "      <td>15.0</td>\n",
       "      <td>26.0</td>\n",
       "      <td>15-26</td>\n",
       "      <td>9.0</td>\n",
       "      <td>1010</td>\n",
       "      <td>Limited Business License</td>\n",
       "      <td>1675683.0</td>\n",
       "      <td>RENEW</td>\n",
       "      <td>NaN</td>\n",
       "      <td>2007-06-21T00:00:00</td>\n",
       "      <td>2007-08-15T00:00:00</td>\n",
       "      <td>N</td>\n",
       "      <td>2007-08-16T00:00:00</td>\n",
       "      <td>2009-06-15T00:00:00</td>\n",
       "      <td>2007-08-15T00:00:00</td>\n",
       "      <td>2007-08-16T00:00:00</td>\n",
       "      <td>2008-03-26T00:00:00</td>\n",
       "      <td>39.0</td>\n",
       "      <td>41.816969</td>\n",
       "      <td>-87.699785</td>\n",
       "      <td>{'latitude': '41.81696910012824', 'longitude':...</td>\n",
       "    </tr>\n",
       "  </tbody>\n",
       "</table>\n",
       "</div>"
      ],
      "text/plain": [
       "                 ID  LICENSE ID  ACCOUNT NUMBER  SITE NUMBER              LEGAL NAME DOING BUSINESS AS NAME                   ADDRESS     CITY STATE  ZIP CODE  WARD  PRECINCT WARD PRECINCT  POLICE DISTRICT  LICENSE CODE                LICENSE DESCRIPTION  LICENSE NUMBER APPLICATION TYPE APPLICATION CREATED DATE APPLICATION REQUIREMENTS COMPLETE         PAYMENT DATE CONDITIONAL APPROVAL LICENSE TERM START DATE LICENSE TERM EXPIRATION DATE LICENSE APPROVED FOR ISSUANCE          DATE ISSUED LICENSE STATUS CHANGE DATE   SSA   LATITUDE  LONGITUDE                                           LOCATION\n",
       "0  1516615-20120216     2132209          280120            1          RS HOMES I LLC         RS HOMES I LLC    350 W HUBBARD ST 3 300  CHICAGO    IL   60610.0  42.0      67.0         42-67             18.0          1020  Residential Real Estate Developer       1516615.0            RENEW                      NaN               2011-12-15T00:00:00  2012-01-19T00:00:00                    N     2012-02-16T00:00:00          2014-02-15T00:00:00           2012-01-19T00:00:00  2012-01-20T00:00:00        2012-12-29T00:00:00   NaN  41.890047 -87.637467  {'latitude': '41.89004724888915', 'longitude':...\n",
       "1    69813-20110616     2090759           65043            1      CSX INTERMODAL INC         CSX INTERMODAL        2101 W 59TH ST 1ST  CHICAGO    IL   60636.0  16.0       5.0          16-5              7.0          1010           Limited Business License         69813.0            RENEW                      NaN               2011-04-15T00:00:00  2012-11-02T00:00:00                    N     2011-06-16T00:00:00          2013-06-15T00:00:00           2012-11-02T00:00:00  2012-11-05T00:00:00        2012-12-29T00:00:00   NaN  41.786485 -87.676665  {'latitude': '41.786485235679486', 'longitude'...\n",
       "2  1519227-20041116     1541990          281270            1   LOCOMIBILE  LOFTS LLC   LOCOMOBILE LOFTS LLC     1133 S WABASH AVE 1ST  CHICAGO    IL   60605.0   4.0       8.0           4-8              1.0          1020  Residential Real Estate Developer       1519227.0            RENEW                      NaN               2004-09-27T00:00:00  2004-12-06T00:00:00                    N     2004-11-16T00:00:00          2005-11-15T00:00:00           2004-12-06T00:00:00  2004-12-07T00:00:00                        NaN   NaN  41.868269 -87.625695  {'latitude': '41.86826924843568', 'longitude':...\n",
       "3  1922025-20100816     2041053          335243            1         ANNA F. JAMISON        ANNA F. JAMISON  13156 S FORRESTVILLE AVE  CHICAGO    IL   60827.0   9.0      33.0          9-33              5.0          1607         Peddler, non-food, special       1922025.0            RENEW                      NaN               2010-06-15T00:00:00  2010-11-04T00:00:00                    N     2010-08-16T00:00:00          2012-08-15T00:00:00                           NaN  2010-11-04T00:00:00        2012-12-31T00:00:00   NaN  41.655762 -87.608686  {'latitude': '41.65576175146191', 'longitude':...\n",
       "4  1675683-20070816     1837158          283018            3  MARINCA A. COVARRUBIAS                DETAILS         4208 S ARCHER AVE  CHICAGO    IL   60632.0  15.0      26.0         15-26              9.0          1010           Limited Business License       1675683.0            RENEW                      NaN               2007-06-21T00:00:00  2007-08-15T00:00:00                    N     2007-08-16T00:00:00          2009-06-15T00:00:00           2007-08-15T00:00:00  2007-08-16T00:00:00        2008-03-26T00:00:00  39.0  41.816969 -87.699785  {'latitude': '41.81696910012824', 'longitude':..."
      ]
     },
     "execution_count": 3,
     "metadata": {},
     "output_type": "execute_result"
    }
   ],
   "source": [
    "test_data = pd.read_csv(\"test_file.csv\")\n",
    "test_data.head()\n"
   ]
  },
  {
   "cell_type": "code",
   "execution_count": 4,
   "metadata": {},
   "outputs": [
    {
     "data": {
      "text/plain": [
       "(85895, 32)"
      ]
     },
     "execution_count": 4,
     "metadata": {},
     "output_type": "execute_result"
    }
   ],
   "source": [
    "train_data.shape"
   ]
  },
  {
   "cell_type": "code",
   "execution_count": 5,
   "metadata": {},
   "outputs": [
    {
     "data": {
      "text/plain": [
       "(57239, 31)"
      ]
     },
     "execution_count": 5,
     "metadata": {},
     "output_type": "execute_result"
    }
   ],
   "source": [
    "test_data.shape"
   ]
  },
  {
   "cell_type": "code",
   "execution_count": 6,
   "metadata": {},
   "outputs": [
    {
     "data": {
      "text/html": [
       "<div>\n",
       "<style scoped>\n",
       "    .dataframe tbody tr th:only-of-type {\n",
       "        vertical-align: middle;\n",
       "    }\n",
       "\n",
       "    .dataframe tbody tr th {\n",
       "        vertical-align: top;\n",
       "    }\n",
       "\n",
       "    .dataframe thead th {\n",
       "        text-align: right;\n",
       "    }\n",
       "</style>\n",
       "<table border=\"1\" class=\"dataframe\">\n",
       "  <thead>\n",
       "    <tr style=\"text-align: right;\">\n",
       "      <th></th>\n",
       "      <th>ID</th>\n",
       "    </tr>\n",
       "  </thead>\n",
       "  <tbody>\n",
       "    <tr>\n",
       "      <th>0</th>\n",
       "      <td>1516615-20120216</td>\n",
       "    </tr>\n",
       "    <tr>\n",
       "      <th>1</th>\n",
       "      <td>69813-20110616</td>\n",
       "    </tr>\n",
       "    <tr>\n",
       "      <th>2</th>\n",
       "      <td>1519227-20041116</td>\n",
       "    </tr>\n",
       "    <tr>\n",
       "      <th>3</th>\n",
       "      <td>1922025-20100816</td>\n",
       "    </tr>\n",
       "    <tr>\n",
       "      <th>4</th>\n",
       "      <td>1675683-20070816</td>\n",
       "    </tr>\n",
       "  </tbody>\n",
       "</table>\n",
       "</div>"
      ],
      "text/plain": [
       "                 ID\n",
       "0  1516615-20120216\n",
       "1    69813-20110616\n",
       "2  1519227-20041116\n",
       "3  1922025-20100816\n",
       "4  1675683-20070816"
      ]
     },
     "execution_count": 6,
     "metadata": {},
     "output_type": "execute_result"
    }
   ],
   "source": [
    "final_submission = pd.DataFrame({'ID': test_data.ID})\n",
    "final_submission.head()"
   ]
  },
  {
   "cell_type": "markdown",
   "metadata": {},
   "source": [
    "### Data Inspection"
   ]
  },
  {
   "cell_type": "code",
   "execution_count": 7,
   "metadata": {},
   "outputs": [
    {
     "data": {
      "text/plain": [
       "AAI    55400\n",
       "AAC    30200\n",
       "REV      290\n",
       "REA        3\n",
       "INQ        2\n",
       "Name: LICENSE STATUS, dtype: int64"
      ]
     },
     "execution_count": 7,
     "metadata": {},
     "output_type": "execute_result"
    }
   ],
   "source": [
    "#target variable count study\n",
    "train_data['LICENSE STATUS'].value_counts()"
   ]
  },
  {
   "cell_type": "code",
   "execution_count": 8,
   "metadata": {},
   "outputs": [
    {
     "data": {
      "text/plain": [
       "ID                                       0\n",
       "LICENSE ID                               0\n",
       "ACCOUNT NUMBER                           0\n",
       "SITE NUMBER                              0\n",
       "LEGAL NAME                               0\n",
       "DOING BUSINESS AS NAME                   1\n",
       "ADDRESS                                  0\n",
       "CITY                                     0\n",
       "STATE                                    0\n",
       "ZIP CODE                                31\n",
       "WARD                                 49701\n",
       "PRECINCT                             56701\n",
       "WARD PRECINCT                        49700\n",
       "POLICE DISTRICT                      54012\n",
       "LICENSE CODE                             0\n",
       "LICENSE DESCRIPTION                      0\n",
       "LICENSE NUMBER                           1\n",
       "APPLICATION TYPE                         0\n",
       "APPLICATION CREATED DATE             64660\n",
       "APPLICATION REQUIREMENTS COMPLETE      214\n",
       "PAYMENT DATE                          1289\n",
       "CONDITIONAL APPROVAL                     0\n",
       "LICENSE TERM START DATE                228\n",
       "LICENSE TERM EXPIRATION DATE            18\n",
       "LICENSE APPROVED FOR ISSUANCE         6789\n",
       "DATE ISSUED                              0\n",
       "LICENSE STATUS CHANGE DATE           55400\n",
       "SSA                                  76446\n",
       "LATITUDE                             47246\n",
       "LONGITUDE                            47246\n",
       "LOCATION                             47246\n",
       "LICENSE STATUS                           0\n",
       "dtype: int64"
      ]
     },
     "execution_count": 8,
     "metadata": {},
     "output_type": "execute_result"
    }
   ],
   "source": [
    "#To check for the not available data\n",
    "train_data.isna().sum()"
   ]
  },
  {
   "cell_type": "code",
   "execution_count": 9,
   "metadata": {},
   "outputs": [
    {
     "data": {
      "text/plain": [
       "ID                                       0\n",
       "LICENSE ID                               0\n",
       "ACCOUNT NUMBER                           0\n",
       "SITE NUMBER                              0\n",
       "LEGAL NAME                               0\n",
       "DOING BUSINESS AS NAME                   2\n",
       "ADDRESS                                  0\n",
       "CITY                                     0\n",
       "STATE                                    0\n",
       "ZIP CODE                                12\n",
       "WARD                                   626\n",
       "PRECINCT                              1578\n",
       "WARD PRECINCT                          616\n",
       "POLICE DISTRICT                       1475\n",
       "LICENSE CODE                             0\n",
       "LICENSE DESCRIPTION                      0\n",
       "LICENSE NUMBER                           0\n",
       "APPLICATION TYPE                         0\n",
       "APPLICATION CREATED DATE             44587\n",
       "APPLICATION REQUIREMENTS COMPLETE      428\n",
       "PAYMENT DATE                          1051\n",
       "CONDITIONAL APPROVAL                     0\n",
       "LICENSE TERM START DATE                118\n",
       "LICENSE TERM EXPIRATION DATE             6\n",
       "LICENSE APPROVED FOR ISSUANCE         2379\n",
       "DATE ISSUED                              0\n",
       "LICENSE STATUS CHANGE DATE           23246\n",
       "SSA                                  41331\n",
       "LATITUDE                               910\n",
       "LONGITUDE                              910\n",
       "LOCATION                               910\n",
       "dtype: int64"
      ]
     },
     "execution_count": 9,
     "metadata": {},
     "output_type": "execute_result"
    }
   ],
   "source": [
    "test_data.isna().sum()"
   ]
  },
  {
   "cell_type": "code",
   "execution_count": 10,
   "metadata": {},
   "outputs": [
    {
     "data": {
      "text/plain": [
       "ID                                   85895\n",
       "LICENSE ID                           85895\n",
       "ACCOUNT NUMBER                       38897\n",
       "SITE NUMBER                            177\n",
       "LEGAL NAME                           38744\n",
       "DOING BUSINESS AS NAME               41686\n",
       "ADDRESS                              42146\n",
       "CITY                                  1223\n",
       "STATE                                   54\n",
       "ZIP CODE                              2456\n",
       "WARD                                    50\n",
       "PRECINCT                                76\n",
       "WARD PRECINCT                         2383\n",
       "POLICE DISTRICT                         28\n",
       "LICENSE CODE                           106\n",
       "LICENSE DESCRIPTION                    106\n",
       "LICENSE NUMBER                       49768\n",
       "APPLICATION TYPE                         5\n",
       "APPLICATION CREATED DATE              2899\n",
       "APPLICATION REQUIREMENTS COMPLETE     3078\n",
       "PAYMENT DATE                          4356\n",
       "CONDITIONAL APPROVAL                     2\n",
       "LICENSE TERM START DATE               2825\n",
       "LICENSE TERM EXPIRATION DATE           297\n",
       "LICENSE APPROVED FOR ISSUANCE         4223\n",
       "DATE ISSUED                           3498\n",
       "LICENSE STATUS CHANGE DATE            3152\n",
       "SSA                                     53\n",
       "LATITUDE                             21386\n",
       "LONGITUDE                            21388\n",
       "LOCATION                             21388\n",
       "LICENSE STATUS                           5\n",
       "dtype: int64"
      ]
     },
     "execution_count": 10,
     "metadata": {},
     "output_type": "execute_result"
    }
   ],
   "source": [
    "#To check for the unique data\n",
    "train_data.nunique()"
   ]
  },
  {
   "cell_type": "code",
   "execution_count": 11,
   "metadata": {},
   "outputs": [
    {
     "data": {
      "text/plain": [
       "ID                                   57239\n",
       "LICENSE ID                           57239\n",
       "ACCOUNT NUMBER                       36724\n",
       "SITE NUMBER                            297\n",
       "LEGAL NAME                           36523\n",
       "DOING BUSINESS AS NAME               39364\n",
       "ADDRESS                              39637\n",
       "CITY                                   331\n",
       "STATE                                   43\n",
       "ZIP CODE                               420\n",
       "WARD                                    50\n",
       "PRECINCT                                76\n",
       "WARD PRECINCT                         2461\n",
       "POLICE DISTRICT                         25\n",
       "LICENSE CODE                           124\n",
       "LICENSE DESCRIPTION                    124\n",
       "LICENSE NUMBER                       49383\n",
       "APPLICATION TYPE                         6\n",
       "APPLICATION CREATED DATE              3684\n",
       "APPLICATION REQUIREMENTS COMPLETE     3884\n",
       "PAYMENT DATE                          4930\n",
       "CONDITIONAL APPROVAL                     2\n",
       "LICENSE TERM START DATE               3737\n",
       "LICENSE TERM EXPIRATION DATE           402\n",
       "LICENSE APPROVED FOR ISSUANCE         4844\n",
       "DATE ISSUED                           4042\n",
       "LICENSE STATUS CHANGE DATE            3934\n",
       "SSA                                     53\n",
       "LATITUDE                             28809\n",
       "LONGITUDE                            28809\n",
       "LOCATION                             28810\n",
       "dtype: int64"
      ]
     },
     "execution_count": 11,
     "metadata": {},
     "output_type": "execute_result"
    }
   ],
   "source": [
    "test_data.nunique()"
   ]
  },
  {
   "cell_type": "markdown",
   "metadata": {},
   "source": [
    "# Data Preparation\n"
   ]
  },
  {
   "cell_type": "code",
   "execution_count": 12,
   "metadata": {},
   "outputs": [],
   "source": [
    "#Extract date from datetime column\n",
    "def ext_date(date_list):\n",
    "    for i in date_list:\n",
    "        train_data[i] = pd.to_datetime(train_data[i])\n",
    "        test_data[i] = pd.to_datetime(test_data[i])"
   ]
  },
  {
   "cell_type": "code",
   "execution_count": 13,
   "metadata": {},
   "outputs": [],
   "source": [
    "date_list = ['APPLICATION REQUIREMENTS COMPLETE', 'PAYMENT DATE', 'LICENSE TERM EXPIRATION DATE', 'LICENSE TERM START DATE',\n",
    "             'DATE ISSUED', 'LICENSE APPROVED FOR ISSUANCE', 'LICENSE STATUS CHANGE DATE']\n",
    "ext_date(date_list)"
   ]
  },
  {
   "cell_type": "code",
   "execution_count": 14,
   "metadata": {},
   "outputs": [],
   "source": [
    "#Extracting month and year to separate columns\n",
    "train_data['PAYMENT YEAR'] = pd.DatetimeIndex(train_data['PAYMENT DATE']).year\n",
    "train_data['APPLICATION REQUIREMENTS COMPLETE YEAR'] = pd.DatetimeIndex(train_data['APPLICATION REQUIREMENTS COMPLETE']).year\n",
    "train_data['DATE ISSUED YEAR'] = pd.DatetimeIndex(train_data['DATE ISSUED']).year\n",
    "train_data['LICENSE TERM EXPIRATION YEAR'] = pd.DatetimeIndex(train_data['LICENSE TERM EXPIRATION DATE']).year\n",
    "train_data['LICENSE TERM START YEAR'] = pd.DatetimeIndex(train_data['LICENSE TERM START DATE']).year\n",
    "train_data['LICENSE APPROVED YEAR'] = pd.DatetimeIndex(train_data['LICENSE APPROVED FOR ISSUANCE']).year\n",
    "train_data['LICENSE STATUS CHANGE YEAR'] = pd.DatetimeIndex(train_data['LICENSE STATUS CHANGE DATE']).year\n",
    "train_data['PAYMENT MONTH'] = pd.DatetimeIndex(train_data['PAYMENT DATE']).month\n",
    "train_data['APPLICATION REQUIREMENTS COMPLETE MONTH'] = pd.DatetimeIndex(train_data['APPLICATION REQUIREMENTS COMPLETE']).month\n",
    "train_data['DATE ISSUED MONTH'] = pd.DatetimeIndex(train_data['DATE ISSUED']).month\n",
    "train_data['LICENSE TERM EXPIRATION MONTH'] = pd.DatetimeIndex(train_data['LICENSE TERM EXPIRATION DATE']).month\n",
    "train_data['LICENSE TERM START MONTH'] = pd.DatetimeIndex(train_data['LICENSE TERM START DATE']).month\n",
    "train_data['LICENSE APPROVED MONTH'] = pd.DatetimeIndex(train_data['LICENSE APPROVED FOR ISSUANCE']).month\n",
    "train_data['LICENSE STATUS CHANGE MONTH'] = pd.DatetimeIndex(train_data['LICENSE STATUS CHANGE DATE']).month\n",
    "\n",
    "test_data['PAYMENT YEAR'] = pd.DatetimeIndex(test_data['PAYMENT DATE']).year\n",
    "test_data['APPLICATION REQUIREMENTS COMPLETE YEAR'] = pd.DatetimeIndex(test_data['APPLICATION REQUIREMENTS COMPLETE']).year\n",
    "test_data['DATE ISSUED YEAR'] = pd.DatetimeIndex(test_data['DATE ISSUED']).year\n",
    "test_data['LICENSE TERM EXPIRATION YEAR'] = pd.DatetimeIndex(test_data['LICENSE TERM EXPIRATION DATE']).year\n",
    "test_data['LICENSE TERM START YEAR'] = pd.DatetimeIndex(test_data['LICENSE TERM START DATE']).year\n",
    "test_data['LICENSE APPROVED YEAR'] = pd.DatetimeIndex(test_data['LICENSE APPROVED FOR ISSUANCE']).year\n",
    "test_data['LICENSE STATUS CHANGE YEAR'] = pd.DatetimeIndex(test_data['LICENSE STATUS CHANGE DATE']).year\n",
    "test_data['PAYMENT MONTH'] = pd.DatetimeIndex(test_data['PAYMENT DATE']).month\n",
    "test_data['APPLICATION REQUIREMENTS COMPLETE MONTH'] = pd.DatetimeIndex(test_data['APPLICATION REQUIREMENTS COMPLETE']).month\n",
    "test_data['DATE ISSUED MONTH'] = pd.DatetimeIndex(test_data['DATE ISSUED']).month\n",
    "test_data['LICENSE TERM EXPIRATION MONTH'] = pd.DatetimeIndex(test_data['LICENSE TERM EXPIRATION DATE']).month\n",
    "test_data['LICENSE TERM START MONTH'] = pd.DatetimeIndex(test_data['LICENSE TERM START DATE']).month\n",
    "test_data['LICENSE APPROVED MONTH'] = pd.DatetimeIndex(test_data['LICENSE APPROVED FOR ISSUANCE']).month\n",
    "test_data['LICENSE STATUS CHANGE MONTH'] = pd.DatetimeIndex(test_data['LICENSE STATUS CHANGE DATE']).month"
   ]
  },
  {
   "cell_type": "code",
   "execution_count": 15,
   "metadata": {},
   "outputs": [],
   "source": [
    "drop_list=['LEGAL NAME','DOING BUSINESS AS NAME','APPLICATION REQUIREMENTS COMPLETE', 'PAYMENT DATE', 'LICENSE TERM EXPIRATION DATE', 'LICENSE TERM START DATE',\n",
    "             'DATE ISSUED', 'LICENSE APPROVED FOR ISSUANCE', 'LICENSE STATUS CHANGE DATE', 'ID', 'LICENSE ID','ADDRESS', 'WARD PRECINCT','APPLICATION CREATED DATE','SSA','LOCATION']"
   ]
  },
  {
   "cell_type": "code",
   "execution_count": 16,
   "metadata": {},
   "outputs": [
    {
     "data": {
      "text/plain": [
       "(85895, 30)"
      ]
     },
     "execution_count": 16,
     "metadata": {},
     "output_type": "execute_result"
    }
   ],
   "source": [
    "train_data = train_data.drop(drop_list, axis = 1)\n",
    "train_data.shape"
   ]
  },
  {
   "cell_type": "code",
   "execution_count": 17,
   "metadata": {},
   "outputs": [
    {
     "data": {
      "text/plain": [
       "(57239, 29)"
      ]
     },
     "execution_count": 17,
     "metadata": {},
     "output_type": "execute_result"
    }
   ],
   "source": [
    "test_data = test_data.drop(drop_list, axis = 1)\n",
    "test_data.shape"
   ]
  },
  {
   "cell_type": "markdown",
   "metadata": {},
   "source": [
    "### Imputing missing values"
   ]
  },
  {
   "cell_type": "code",
   "execution_count": 18,
   "metadata": {},
   "outputs": [],
   "source": [
    "#Impute the missing data with avg of all values\n",
    "def impute_avg(imp_list):\n",
    "    \n",
    "    for j in imp_list:\n",
    "        train_data[j] = train_data[j].fillna(train_data[j].mean())\n",
    "        test_data[j] = test_data[j].fillna(train_data[j].mean())"
   ]
  },
  {
   "cell_type": "code",
   "execution_count": 19,
   "metadata": {},
   "outputs": [],
   "source": [
    "imp_list = ['LATITUDE','LONGITUDE']\n",
    "impute_avg(imp_list)"
   ]
  },
  {
   "cell_type": "code",
   "execution_count": 20,
   "metadata": {},
   "outputs": [],
   "source": [
    "def impute_round_avg(imp_rnd):\n",
    "    for i in imp_rnd:\n",
    "        train_data[i] = train_data[i].fillna(round(train_data[i].mean()))\n",
    "        test_data[i] = test_data[i].fillna(round(train_data[i].mean()))"
   ]
  },
  {
   "cell_type": "code",
   "execution_count": 21,
   "metadata": {},
   "outputs": [],
   "source": [
    "imp_rnd = ['PAYMENT YEAR', 'APPLICATION REQUIREMENTS COMPLETE YEAR', 'DATE ISSUED YEAR', 'LICENSE TERM EXPIRATION YEAR', 'LICENSE TERM START YEAR', 'LICENSE APPROVED YEAR','LICENSE STATUS CHANGE YEAR', \n",
    "           'PAYMENT MONTH', 'APPLICATION REQUIREMENTS COMPLETE MONTH', 'DATE ISSUED MONTH' ,'LICENSE TERM EXPIRATION MONTH', 'LICENSE TERM START MONTH', 'LICENSE APPROVED MONTH','LICENSE STATUS CHANGE MONTH']\n",
    "impute_round_avg(imp_rnd)"
   ]
  },
  {
   "cell_type": "code",
   "execution_count": 22,
   "metadata": {},
   "outputs": [],
   "source": [
    "def impute_zero(imp_zero_list):\n",
    "    for i in imp_zero_list:\n",
    "        train_data[i] = train_data[i].fillna(0)\n",
    "        test_data[i] = test_data[i].fillna(0)"
   ]
  },
  {
   "cell_type": "code",
   "execution_count": 23,
   "metadata": {},
   "outputs": [],
   "source": [
    "imp_zero_list = ['WARD', 'PRECINCT', 'POLICE DISTRICT', 'LICENSE NUMBER', 'ZIP CODE']\n",
    "impute_zero(imp_zero_list)"
   ]
  },
  {
   "cell_type": "markdown",
   "metadata": {},
   "source": [
    "### Clubbing of similar classes from the column 'LICENSE DESCRIPTION'"
   ]
  },
  {
   "cell_type": "code",
   "execution_count": 24,
   "metadata": {},
   "outputs": [
    {
     "data": {
      "text/plain": [
       "Limited Business License                                        50078\n",
       "Home Repair                                                     10633\n",
       "Peddler, non-food                                                2812\n",
       "Home Occupation                                                  2809\n",
       "Retail Food Establishment                                        2321\n",
       "Massage Therapist                                                1952\n",
       "Street Performer                                                 1889\n",
       "Scavenger, Private                                               1549\n",
       "Hazardous Materials                                              1126\n",
       "Residential Real Estate Developer                                1087\n",
       "Motor Vehicle Repair : Engine Only (Class II)                     931\n",
       "Automatic Amusement Device Operator                               773\n",
       "Peddler, food (fruits and vegtables only)                         582\n",
       "Mobile Food Dispenser                                             525\n",
       "Manufacturing Establishments                                      458\n",
       "Broker                                                            439\n",
       "Motor Vehicle Repair: Engine/Body(Class III)                      382\n",
       "Electronic Equipment Repair                                       325\n",
       "Consumption on Premises - Incidental Activity                     321\n",
       "Peddler, non-food, special                                        308\n",
       "Day Care Center 2 - 6 Years                                       298\n",
       "Mobile Frozen Desserts Dispenser - Non-Motorized                  254\n",
       "Motor Vehicle Repair; Specialty(Class I)                          221\n",
       "Repossessor Class B Employee                                      212\n",
       "Package Goods                                                     174\n",
       "Auctioneer                                                        164\n",
       "Tire Facilty Class I (100 - 1,000 Tires)                          160\n",
       "Tavern                                                            151\n",
       "Day Care Center Under 2 and 2 - 6 Years                           133\n",
       "Junk Peddler                                                      132\n",
       "Hotel                                                             130\n",
       "Wholesale Food Establishment                                      127\n",
       "Massage Establishment                                             111\n",
       "Retail Computing Center                                           106\n",
       "Kennels and Catteries                                              96\n",
       "Board-Up Work                                                      92\n",
       "Day Care Center Under 2 Years                                      91\n",
       "Expediter - Class B                                                86\n",
       "Repossessor Class A                                                85\n",
       "Peddler,food - (fruits and vegetables only) - special              80\n",
       "Public Place of Amusement                                          79\n",
       "Children's Activities Facilities                                   78\n",
       "Long-Term Care Facility                                            76\n",
       "Expediter - Class A                                                75\n",
       "Laundry, Late Hour                                                 75\n",
       "Music and Dance                                                    75\n",
       "Tobacco Vending Machine Operator                                   72\n",
       "Grooming Facility                                                  69\n",
       "Navy Pier - Outdoor Fixed                                          62\n",
       "Pet Shop                                                           62\n",
       "Animal Care Facility                                               61\n",
       "Filling Station                                                    61\n",
       "Expediter - Class B Employee                                       60\n",
       "Vacation Rental                                                    54\n",
       "Body Piercing                                                      52\n",
       "Veterinary Hospital                                                52\n",
       "Single Room Occupancy Class I                                      49\n",
       "Late Hour                                                          41\n",
       "Raffles                                                            41\n",
       "Navy Pier Vendor (Non-Food)                                        40\n",
       "Tire Facility Class II (1,001 - 5,000 Tires)                       32\n",
       "Itinerant Merchant, Class I                                        32\n",
       "Outdoor Patio                                                      31\n",
       "Hospital                                                           29\n",
       "Day Labor Agency                                                   26\n",
       "Tobacco Vending, Individual                                        23\n",
       "Laboratories                                                       22\n",
       "Animal Exhibition                                                  22\n",
       "Night Care Privilege                                               21\n",
       "Tobacco Dealer Wholesale                                           18\n",
       "Accessory Garage                                                   17\n",
       "Bed-And-Breakfast Establishment                                    16\n",
       "Single Room Occupancy Class II                                     15\n",
       "Retail Food Est.-Supplemental License for Dog-Friendly Areas       15\n",
       "Itinerant Merchant, Class II                                        9\n",
       "Repossessor Class B                                                 9\n",
       "Explosives, Certificate of Fitness                                  9\n",
       "Riverwalk Venue Liquor License                                      9\n",
       "Caterer's Liquor License                                            8\n",
       "Produce Merchant                                                    8\n",
       "Humane Society                                                      8\n",
       "Public Place of Amusement-TCC                                       7\n",
       "Valet Parking Operator                                              7\n",
       "Secondhand Dealer - Children's Products                             6\n",
       "Bicycle Messenger Service                                           5\n",
       "Wrigley Field                                                       5\n",
       "Secondhand Dealer (No Valuable Objects)                             5\n",
       "Pawnbroker                                                          5\n",
       "Weapons Dealer                                                      4\n",
       "Regulated Business License                                          4\n",
       "Animal Care License                                                 4\n",
       "Assisted Living/Shared Housing Establishment                        4\n",
       "Performing Arts Venue                                               4\n",
       "Tobacco Sampler                                                     3\n",
       "Tire Facility Class III (5,001 - More Tires)                        2\n",
       "Private Booting Operation                                           2\n",
       "Navy Pier - Mobile                                                  2\n",
       "Explosives                                                          2\n",
       "Caterer's Registration (Liquor)                                     1\n",
       "Guard Dog Service                                                   1\n",
       "Not-For-Profit Club                                                 1\n",
       "Airport Pushcart Liquor Midway - Class A                            1\n",
       "Airport Pushcart Liquor O'Hare - Class A                            1\n",
       "Indoor Special Event                                                1\n",
       "Affiliation                                                         1\n",
       "Motor Vehicle Services License                                      1\n",
       "Name: LICENSE DESCRIPTION, dtype: int64"
      ]
     },
     "execution_count": 24,
     "metadata": {},
     "output_type": "execute_result"
    }
   ],
   "source": [
    "train_data['LICENSE DESCRIPTION'].value_counts()"
   ]
  },
  {
   "cell_type": "code",
   "execution_count": 25,
   "metadata": {},
   "outputs": [],
   "source": [
    "train_data['LICENSE DESCRIPTION'] = train_data['LICENSE DESCRIPTION'].replace('Motor Vehicle Repair : Engine Only (Class II)', 'Motor Vehicle Repair')\n",
    "train_data['LICENSE DESCRIPTION'] = train_data['LICENSE DESCRIPTION'].replace('Motor Vehicle Repair: Engine/Body(Class III)', 'Motor Vehicle Repair')\n",
    "train_data['LICENSE DESCRIPTION'] = train_data['LICENSE DESCRIPTION'].replace('Motor Vehicle Repair; Specialty(Class I)', 'Motor Vehicle Repair')\n",
    "train_data['LICENSE DESCRIPTION'] = train_data['LICENSE DESCRIPTION'].replace(' Motor Vehicle Services License', 'Motor Vehicle Repair')\n",
    "\n",
    "\n",
    "train_data['LICENSE DESCRIPTION'] = train_data['LICENSE DESCRIPTION'].replace('Day Care Center Under 2 Years', 'Day Care Center')\n",
    "train_data['LICENSE DESCRIPTION'] = train_data['LICENSE DESCRIPTION'].replace('Day Care Center 2 - 6 Years', 'Day Care Center')\n",
    "train_data['LICENSE DESCRIPTION'] = train_data['LICENSE DESCRIPTION'].replace('Day Care Center Under 2 and 2 - 6 Years', 'Day Care Center')\n",
    "\n",
    "train_data['LICENSE DESCRIPTION'] = train_data['LICENSE DESCRIPTION'].replace('Peddler, non-food', 'Peddler')\n",
    "train_data['LICENSE DESCRIPTION'] = train_data['LICENSE DESCRIPTION'].replace('Peddler, non-food, special', 'Peddler')\n",
    "train_data['LICENSE DESCRIPTION'] = train_data['LICENSE DESCRIPTION'].replace('Peddler, food (fruits and vegtables only)', 'Peddler')\n",
    "train_data['LICENSE DESCRIPTION'] = train_data['LICENSE DESCRIPTION'].replace('Peddler,food - (fruits and vegetables only) - special', 'Peddler')\n",
    "train_data['LICENSE DESCRIPTION'] = train_data['LICENSE DESCRIPTION'].replace('Junk Peddler','Peddler')\n",
    "\n",
    "\n",
    "train_data['LICENSE DESCRIPTION'] = train_data['LICENSE DESCRIPTION'].replace('Tire Facilty Class I (100 - 1,000 Tires)', 'Tire Facilty')\n",
    "train_data['LICENSE DESCRIPTION'] = train_data['LICENSE DESCRIPTION'].replace('Tire Facility Class II (1,001 - 5,000 Tires)', 'Tire Facilty')\n",
    "train_data['LICENSE DESCRIPTION'] = train_data['LICENSE DESCRIPTION'].replace('Tire Facility Class III (5,001 - More Tires)', 'Tire Facilty')\n",
    "train_data['LICENSE DESCRIPTION'] = train_data['LICENSE DESCRIPTION'].replace('Repossessor Class A', 'Repossessor')\n",
    "train_data['LICENSE DESCRIPTION'] = train_data['LICENSE DESCRIPTION'].replace('Repossessor Class B', 'Repossessor')\n",
    "train_data['LICENSE DESCRIPTION'] = train_data['LICENSE DESCRIPTION'].replace('Repossessor Class B Employee', 'Repossessor')\n",
    "train_data['LICENSE DESCRIPTION'] = train_data['LICENSE DESCRIPTION'].replace('Expediter - Class B', 'Expediter')\n",
    "train_data['LICENSE DESCRIPTION'] = train_data['LICENSE DESCRIPTION'].replace('Expediter - Class A', 'Expediter')\n",
    "train_data['LICENSE DESCRIPTION'] = train_data['LICENSE DESCRIPTION'].replace('Expediter - Class B Employee', 'Expediter')\n",
    "train_data['LICENSE DESCRIPTION'] = train_data['LICENSE DESCRIPTION'].replace('Itinerant Merchant, Class II', 'Itinerant Merchant')\n",
    "train_data['LICENSE DESCRIPTION'] = train_data['LICENSE DESCRIPTION'].replace('Itinerant Merchant, Class I', 'Itinerant Merchant')\n",
    "\n",
    "train_data['LICENSE DESCRIPTION'] = train_data['LICENSE DESCRIPTION'].replace('Navy Pier - Mobile', 'Navy Pier')\n",
    "train_data['LICENSE DESCRIPTION'] = train_data['LICENSE DESCRIPTION'].replace('Navy Pier Vendor (Non-Food)', 'Navy Pier')\n",
    "train_data['LICENSE DESCRIPTION'] = train_data['LICENSE DESCRIPTION'].replace('Navy Pier - Outdoor Fixed ', 'Navy Pier')\n",
    "\n",
    "train_data['LICENSE DESCRIPTION'] = train_data['LICENSE DESCRIPTION'].replace('Massage Therapist', 'Massage Service')\n",
    "train_data['LICENSE DESCRIPTION'] = train_data['LICENSE DESCRIPTION'].replace('Massage Establishment', 'Massage Service')\n"
   ]
  },
  {
   "cell_type": "code",
   "execution_count": 26,
   "metadata": {},
   "outputs": [],
   "source": [
    "test_data['LICENSE DESCRIPTION'] = test_data['LICENSE DESCRIPTION'].replace('Motor Vehicle Repair : Engine Only (Class II)', 'Motor Vehicle Repair')\n",
    "test_data['LICENSE DESCRIPTION'] = test_data['LICENSE DESCRIPTION'].replace('Motor Vehicle Repair: Engine/Body(Class III)', 'Motor Vehicle Repair')\n",
    "test_data['LICENSE DESCRIPTION'] = test_data['LICENSE DESCRIPTION'].replace('Motor Vehicle Repair; Specialty(Class I)', 'Motor Vehicle Repair')\n",
    "test_data['LICENSE DESCRIPTION'] = test_data['LICENSE DESCRIPTION'].replace(' Motor Vehicle Services License', 'Motor Vehicle Repair')\n",
    "\n",
    "\n",
    "test_data['LICENSE DESCRIPTION'] = test_data['LICENSE DESCRIPTION'].replace('Day Care Center Under 2 Years', 'Day Care Center')\n",
    "test_data['LICENSE DESCRIPTION'] = test_data['LICENSE DESCRIPTION'].replace('Day Care Center 2 - 6 Years', 'Day Care Center')\n",
    "test_data['LICENSE DESCRIPTION'] = test_data['LICENSE DESCRIPTION'].replace('Day Care Center Under 2 and 2 - 6 Years', 'Day Care Center')\n",
    "\n",
    "test_data['LICENSE DESCRIPTION'] = test_data['LICENSE DESCRIPTION'].replace('Peddler, non-food', 'Peddler')\n",
    "test_data['LICENSE DESCRIPTION'] = test_data['LICENSE DESCRIPTION'].replace('Peddler, non-food, special', 'Peddler')\n",
    "test_data['LICENSE DESCRIPTION'] = test_data['LICENSE DESCRIPTION'].replace('Peddler, food (fruits and vegtables only)', 'Peddler')\n",
    "test_data['LICENSE DESCRIPTION'] = test_data['LICENSE DESCRIPTION'].replace('Peddler,food - (fruits and vegetables only) - special', 'Peddler')\n",
    "test_data['LICENSE DESCRIPTION'] = test_data['LICENSE DESCRIPTION'].replace('Junk Peddler','Peddler')\n",
    "\n",
    "\n",
    "test_data['LICENSE DESCRIPTION'] = test_data['LICENSE DESCRIPTION'].replace('Tire Facilty Class I (100 - 1,000 Tires)', 'Tire Facilty')\n",
    "test_data['LICENSE DESCRIPTION'] = test_data['LICENSE DESCRIPTION'].replace('Tire Facility Class II (1,001 - 5,000 Tires)', 'Tire Facilty')\n",
    "test_data['LICENSE DESCRIPTION'] = test_data['LICENSE DESCRIPTION'].replace('Tire Facility Class III (5,001 - More Tires)', 'Tire Facilty')\n",
    "test_data['LICENSE DESCRIPTION'] = test_data['LICENSE DESCRIPTION'].replace('Repossessor Class A', 'Repossessor')\n",
    "test_data['LICENSE DESCRIPTION'] = test_data['LICENSE DESCRIPTION'].replace('Repossessor Class B', 'Repossessor')\n",
    "test_data['LICENSE DESCRIPTION'] = test_data['LICENSE DESCRIPTION'].replace('Repossessor Class B Employee', 'Repossessor')\n",
    "test_data['LICENSE DESCRIPTION'] = test_data['LICENSE DESCRIPTION'].replace('Expediter - Class B', 'Expediter')\n",
    "test_data['LICENSE DESCRIPTION'] = test_data['LICENSE DESCRIPTION'].replace('Expediter - Class A', 'Expediter')\n",
    "test_data['LICENSE DESCRIPTION'] = test_data['LICENSE DESCRIPTION'].replace('Expediter - Class B Employee', 'Expediter')\n",
    "test_data['LICENSE DESCRIPTION'] = test_data['LICENSE DESCRIPTION'].replace('Itinerant Merchant, Class II', 'Itinerant Merchant')\n",
    "test_data['LICENSE DESCRIPTION'] = test_data['LICENSE DESCRIPTION'].replace('Itinerant Merchant, Class I', 'Itinerant Merchant')\n",
    "\n",
    "test_data['LICENSE DESCRIPTION'] = test_data['LICENSE DESCRIPTION'].replace('Navy Pier - Mobile', 'Navy Pier')\n",
    "test_data['LICENSE DESCRIPTION'] = test_data['LICENSE DESCRIPTION'].replace('Navy Pier Vendor (Non-Food)', 'Navy Pier')\n",
    "test_data['LICENSE DESCRIPTION'] = test_data['LICENSE DESCRIPTION'].replace('Navy Pier - Outdoor Fixed ', 'Navy Pier')\n",
    "\n",
    "test_data['LICENSE DESCRIPTION'] = test_data['LICENSE DESCRIPTION'].replace('Massage Therapist', 'Massage Service')\n",
    "test_data['LICENSE DESCRIPTION'] = test_data['LICENSE DESCRIPTION'].replace('Massage Establishment', 'Massage Service')\n"
   ]
  },
  {
   "cell_type": "markdown",
   "metadata": {},
   "source": [
    "### Encoding the non numeric values"
   ]
  },
  {
   "cell_type": "code",
   "execution_count": 27,
   "metadata": {},
   "outputs": [],
   "source": [
    "train_data[\"LICENSE STATUS\"] = train_data[\"LICENSE STATUS\"].replace('AAI', 0)\n",
    "train_data[\"LICENSE STATUS\"] = train_data[\"LICENSE STATUS\"].replace('AAC', 1)\n",
    "train_data[\"LICENSE STATUS\"] = train_data[\"LICENSE STATUS\"].replace('REV', 2)\n",
    "train_data[\"LICENSE STATUS\"] = train_data[\"LICENSE STATUS\"].replace('REA', 3)\n",
    "train_data[\"LICENSE STATUS\"] = train_data[\"LICENSE STATUS\"].replace('INQ', 4)"
   ]
  },
  {
   "cell_type": "code",
   "execution_count": 28,
   "metadata": {},
   "outputs": [],
   "source": [
    "def encoding(dataf):\n",
    "    for i in dataf.columns:\n",
    "        if dataf[i].dtypes=='object':  \n",
    "            print('encoding', i)\n",
    "            try:\n",
    "                dataf[i] = LabelEncoder().fit_transform(dataf[i])\n",
    "                \n",
    "            except Exception as e:\n",
    "                print(e)\n",
    "    return dataf"
   ]
  },
  {
   "cell_type": "code",
   "execution_count": 29,
   "metadata": {
    "scrolled": true
   },
   "outputs": [
    {
     "name": "stdout",
     "output_type": "stream",
     "text": [
      "encoding CITY\n",
      "encoding STATE\n",
      "encoding ZIP CODE\n",
      "argument must be a string or number\n",
      "encoding LICENSE DESCRIPTION\n",
      "encoding APPLICATION TYPE\n",
      "encoding CONDITIONAL APPROVAL\n"
     ]
    }
   ],
   "source": [
    "train_data = encoding(train_data)"
   ]
  },
  {
   "cell_type": "code",
   "execution_count": 30,
   "metadata": {},
   "outputs": [
    {
     "name": "stdout",
     "output_type": "stream",
     "text": [
      "encoding CITY\n",
      "encoding STATE\n",
      "encoding LICENSE DESCRIPTION\n",
      "encoding APPLICATION TYPE\n",
      "encoding CONDITIONAL APPROVAL\n"
     ]
    }
   ],
   "source": [
    "test_data = encoding(test_data)"
   ]
  },
  {
   "cell_type": "code",
   "execution_count": 31,
   "metadata": {},
   "outputs": [],
   "source": [
    "train_data[\"ZIP CODE\"] = LabelEncoder().fit_transform(train_data[\"ZIP CODE\"].astype(str))\n",
    "test_data[\"ZIP CODE\"] = LabelEncoder().fit_transform(test_data[\"ZIP CODE\"].astype(str))"
   ]
  },
  {
   "cell_type": "markdown",
   "metadata": {},
   "source": [
    "## Sampling the data to limit skewing of model from one category of dependent variable\n"
   ]
  },
  {
   "cell_type": "code",
   "execution_count": 32,
   "metadata": {},
   "outputs": [
    {
     "data": {
      "text/plain": [
       "0    55400\n",
       "1    30200\n",
       "2      290\n",
       "3        3\n",
       "4        2\n",
       "Name: LICENSE STATUS, dtype: int64"
      ]
     },
     "execution_count": 32,
     "metadata": {},
     "output_type": "execute_result"
    }
   ],
   "source": [
    "#To know the value counts of each data in the License Status Column\n",
    "train_data['LICENSE STATUS'].value_counts()"
   ]
  },
  {
   "cell_type": "markdown",
   "metadata": {},
   "source": [
    "### Oversampling of INQ and REA data AND undersampling of AAC and AAI data to produce an overall balanced data. "
   ]
  },
  {
   "cell_type": "code",
   "execution_count": 33,
   "metadata": {},
   "outputs": [
    {
     "data": {
      "text/html": [
       "<div>\n",
       "<style scoped>\n",
       "    .dataframe tbody tr th:only-of-type {\n",
       "        vertical-align: middle;\n",
       "    }\n",
       "\n",
       "    .dataframe tbody tr th {\n",
       "        vertical-align: top;\n",
       "    }\n",
       "\n",
       "    .dataframe thead th {\n",
       "        text-align: right;\n",
       "    }\n",
       "</style>\n",
       "<table border=\"1\" class=\"dataframe\">\n",
       "  <thead>\n",
       "    <tr style=\"text-align: right;\">\n",
       "      <th></th>\n",
       "      <th>ACCOUNT NUMBER</th>\n",
       "      <th>SITE NUMBER</th>\n",
       "      <th>CITY</th>\n",
       "      <th>STATE</th>\n",
       "      <th>ZIP CODE</th>\n",
       "      <th>WARD</th>\n",
       "      <th>PRECINCT</th>\n",
       "      <th>POLICE DISTRICT</th>\n",
       "      <th>LICENSE CODE</th>\n",
       "      <th>LICENSE DESCRIPTION</th>\n",
       "      <th>LICENSE NUMBER</th>\n",
       "      <th>APPLICATION TYPE</th>\n",
       "      <th>CONDITIONAL APPROVAL</th>\n",
       "      <th>LATITUDE</th>\n",
       "      <th>LONGITUDE</th>\n",
       "      <th>LICENSE STATUS</th>\n",
       "      <th>PAYMENT YEAR</th>\n",
       "      <th>APPLICATION REQUIREMENTS COMPLETE YEAR</th>\n",
       "      <th>DATE ISSUED YEAR</th>\n",
       "      <th>LICENSE TERM EXPIRATION YEAR</th>\n",
       "      <th>LICENSE TERM START YEAR</th>\n",
       "      <th>LICENSE APPROVED YEAR</th>\n",
       "      <th>LICENSE STATUS CHANGE YEAR</th>\n",
       "      <th>PAYMENT MONTH</th>\n",
       "      <th>APPLICATION REQUIREMENTS COMPLETE MONTH</th>\n",
       "      <th>DATE ISSUED MONTH</th>\n",
       "      <th>LICENSE TERM EXPIRATION MONTH</th>\n",
       "      <th>LICENSE TERM START MONTH</th>\n",
       "      <th>LICENSE APPROVED MONTH</th>\n",
       "      <th>LICENSE STATUS CHANGE MONTH</th>\n",
       "    </tr>\n",
       "  </thead>\n",
       "  <tbody>\n",
       "    <tr>\n",
       "      <th>22059</th>\n",
       "      <td>60752</td>\n",
       "      <td>17</td>\n",
       "      <td>193</td>\n",
       "      <td>16</td>\n",
       "      <td>1550</td>\n",
       "      <td>33.0</td>\n",
       "      <td>21.0</td>\n",
       "      <td>17.0</td>\n",
       "      <td>1316</td>\n",
       "      <td>45</td>\n",
       "      <td>1739149.0</td>\n",
       "      <td>4</td>\n",
       "      <td>0</td>\n",
       "      <td>41.958152</td>\n",
       "      <td>-87.708001</td>\n",
       "      <td>1</td>\n",
       "      <td>2011.0</td>\n",
       "      <td>2011.0</td>\n",
       "      <td>2011</td>\n",
       "      <td>2013.0</td>\n",
       "      <td>2011.0</td>\n",
       "      <td>2011.0</td>\n",
       "      <td>2012.0</td>\n",
       "      <td>4.0</td>\n",
       "      <td>3.0</td>\n",
       "      <td>4</td>\n",
       "      <td>5.0</td>\n",
       "      <td>5.0</td>\n",
       "      <td>4.0</td>\n",
       "      <td>12.0</td>\n",
       "    </tr>\n",
       "    <tr>\n",
       "      <th>80153</th>\n",
       "      <td>249850</td>\n",
       "      <td>2</td>\n",
       "      <td>833</td>\n",
       "      <td>16</td>\n",
       "      <td>1066</td>\n",
       "      <td>0.0</td>\n",
       "      <td>0.0</td>\n",
       "      <td>0.0</td>\n",
       "      <td>1011</td>\n",
       "      <td>30</td>\n",
       "      <td>1331914.0</td>\n",
       "      <td>3</td>\n",
       "      <td>0</td>\n",
       "      <td>41.880952</td>\n",
       "      <td>-87.681165</td>\n",
       "      <td>4</td>\n",
       "      <td>2007.0</td>\n",
       "      <td>2003.0</td>\n",
       "      <td>2003</td>\n",
       "      <td>2004.0</td>\n",
       "      <td>2003.0</td>\n",
       "      <td>2003.0</td>\n",
       "      <td>2003.0</td>\n",
       "      <td>5.0</td>\n",
       "      <td>9.0</td>\n",
       "      <td>7</td>\n",
       "      <td>2.0</td>\n",
       "      <td>9.0</td>\n",
       "      <td>7.0</td>\n",
       "      <td>9.0</td>\n",
       "    </tr>\n",
       "    <tr>\n",
       "      <th>41332</th>\n",
       "      <td>373264</td>\n",
       "      <td>1</td>\n",
       "      <td>193</td>\n",
       "      <td>16</td>\n",
       "      <td>1599</td>\n",
       "      <td>28.0</td>\n",
       "      <td>0.0</td>\n",
       "      <td>0.0</td>\n",
       "      <td>1006</td>\n",
       "      <td>69</td>\n",
       "      <td>2162235.0</td>\n",
       "      <td>4</td>\n",
       "      <td>0</td>\n",
       "      <td>41.880490</td>\n",
       "      <td>-87.754433</td>\n",
       "      <td>2</td>\n",
       "      <td>2014.0</td>\n",
       "      <td>2014.0</td>\n",
       "      <td>2014</td>\n",
       "      <td>2016.0</td>\n",
       "      <td>2014.0</td>\n",
       "      <td>2014.0</td>\n",
       "      <td>2016.0</td>\n",
       "      <td>6.0</td>\n",
       "      <td>5.0</td>\n",
       "      <td>6</td>\n",
       "      <td>7.0</td>\n",
       "      <td>7.0</td>\n",
       "      <td>6.0</td>\n",
       "      <td>7.0</td>\n",
       "    </tr>\n",
       "    <tr>\n",
       "      <th>51509</th>\n",
       "      <td>23501</td>\n",
       "      <td>2</td>\n",
       "      <td>193</td>\n",
       "      <td>16</td>\n",
       "      <td>1586</td>\n",
       "      <td>13.0</td>\n",
       "      <td>17.0</td>\n",
       "      <td>8.0</td>\n",
       "      <td>1010</td>\n",
       "      <td>40</td>\n",
       "      <td>1800655.0</td>\n",
       "      <td>4</td>\n",
       "      <td>0</td>\n",
       "      <td>41.778100</td>\n",
       "      <td>-87.764965</td>\n",
       "      <td>1</td>\n",
       "      <td>2011.0</td>\n",
       "      <td>2011.0</td>\n",
       "      <td>2011</td>\n",
       "      <td>2013.0</td>\n",
       "      <td>2011.0</td>\n",
       "      <td>2011.0</td>\n",
       "      <td>2012.0</td>\n",
       "      <td>9.0</td>\n",
       "      <td>8.0</td>\n",
       "      <td>9</td>\n",
       "      <td>10.0</td>\n",
       "      <td>10.0</td>\n",
       "      <td>9.0</td>\n",
       "      <td>8.0</td>\n",
       "    </tr>\n",
       "    <tr>\n",
       "      <th>63323</th>\n",
       "      <td>336108</td>\n",
       "      <td>3</td>\n",
       "      <td>193</td>\n",
       "      <td>16</td>\n",
       "      <td>1545</td>\n",
       "      <td>11.0</td>\n",
       "      <td>42.0</td>\n",
       "      <td>9.0</td>\n",
       "      <td>1010</td>\n",
       "      <td>40</td>\n",
       "      <td>1968759.0</td>\n",
       "      <td>4</td>\n",
       "      <td>0</td>\n",
       "      <td>41.838012</td>\n",
       "      <td>-87.640424</td>\n",
       "      <td>2</td>\n",
       "      <td>2010.0</td>\n",
       "      <td>2010.0</td>\n",
       "      <td>2010</td>\n",
       "      <td>2012.0</td>\n",
       "      <td>2010.0</td>\n",
       "      <td>2010.0</td>\n",
       "      <td>2012.0</td>\n",
       "      <td>6.0</td>\n",
       "      <td>4.0</td>\n",
       "      <td>6</td>\n",
       "      <td>6.0</td>\n",
       "      <td>6.0</td>\n",
       "      <td>6.0</td>\n",
       "      <td>3.0</td>\n",
       "    </tr>\n",
       "  </tbody>\n",
       "</table>\n",
       "</div>"
      ],
      "text/plain": [
       "       ACCOUNT NUMBER  SITE NUMBER  CITY  STATE  ZIP CODE  WARD  PRECINCT  POLICE DISTRICT  LICENSE CODE  LICENSE DESCRIPTION  LICENSE NUMBER  APPLICATION TYPE  CONDITIONAL APPROVAL   LATITUDE  LONGITUDE  LICENSE STATUS  PAYMENT YEAR  APPLICATION REQUIREMENTS COMPLETE YEAR  DATE ISSUED YEAR  LICENSE TERM EXPIRATION YEAR  LICENSE TERM START YEAR  LICENSE APPROVED YEAR  LICENSE STATUS CHANGE YEAR  PAYMENT MONTH  APPLICATION REQUIREMENTS COMPLETE MONTH  DATE ISSUED MONTH  LICENSE TERM EXPIRATION MONTH  LICENSE TERM START MONTH  LICENSE APPROVED MONTH  LICENSE STATUS CHANGE MONTH\n",
       "22059           60752           17   193     16      1550  33.0      21.0             17.0          1316                   45       1739149.0                 4                     0  41.958152 -87.708001               1        2011.0                                  2011.0              2011                        2013.0                   2011.0                 2011.0                      2012.0            4.0                                      3.0                  4                            5.0                       5.0                     4.0                         12.0\n",
       "80153          249850            2   833     16      1066   0.0       0.0              0.0          1011                   30       1331914.0                 3                     0  41.880952 -87.681165               4        2007.0                                  2003.0              2003                        2004.0                   2003.0                 2003.0                      2003.0            5.0                                      9.0                  7                            2.0                       9.0                     7.0                          9.0\n",
       "41332          373264            1   193     16      1599  28.0       0.0              0.0          1006                   69       2162235.0                 4                     0  41.880490 -87.754433               2        2014.0                                  2014.0              2014                        2016.0                   2014.0                 2014.0                      2016.0            6.0                                      5.0                  6                            7.0                       7.0                     6.0                          7.0\n",
       "51509           23501            2   193     16      1586  13.0      17.0              8.0          1010                   40       1800655.0                 4                     0  41.778100 -87.764965               1        2011.0                                  2011.0              2011                        2013.0                   2011.0                 2011.0                      2012.0            9.0                                      8.0                  9                           10.0                      10.0                     9.0                          8.0\n",
       "63323          336108            3   193     16      1545  11.0      42.0              9.0          1010                   40       1968759.0                 4                     0  41.838012 -87.640424               2        2010.0                                  2010.0              2010                        2012.0                   2010.0                 2010.0                      2012.0            6.0                                      4.0                  6                            6.0                       6.0                     6.0                          3.0"
      ]
     },
     "execution_count": 33,
     "metadata": {},
     "output_type": "execute_result"
    }
   ],
   "source": [
    "#Shuffling of data\n",
    "train_data = train_data.sample(frac=1)\n",
    "\n",
    "#Creating subsamples\n",
    "license_inq = train_data[train_data['LICENSE STATUS'] == 4]\n",
    "license_rea = train_data[train_data['LICENSE STATUS'] == 3]\n",
    "license_rev = train_data[train_data['LICENSE STATUS'] == 2]\n",
    "license_aac = train_data[train_data['LICENSE STATUS'] == 1][:300]\n",
    "license_aai = train_data[train_data['LICENSE STATUS'] == 0][:300]\n",
    "\n",
    "#Concating the subsamples to get the new dataframe\n",
    "distributed_df = pd.concat([license_inq, license_inq, license_inq, license_inq, license_inq,\n",
    "                            license_inq, license_rea, license_rea, license_rea,\n",
    "                            license_rea, license_rev, license_aac, license_aai])\n",
    "\n",
    "#Shuffling again\n",
    "new_dist_df = distributed_df.sample(frac=1)\n",
    "\n",
    "new_dist_df.head()"
   ]
  },
  {
   "cell_type": "code",
   "execution_count": 34,
   "metadata": {},
   "outputs": [
    {
     "data": {
      "text/plain": [
       "1    300\n",
       "0    300\n",
       "2    290\n",
       "4     12\n",
       "3     12\n",
       "Name: LICENSE STATUS, dtype: int64"
      ]
     },
     "execution_count": 34,
     "metadata": {},
     "output_type": "execute_result"
    }
   ],
   "source": [
    "new_dist_df['LICENSE STATUS'].value_counts()"
   ]
  },
  {
   "cell_type": "code",
   "execution_count": 35,
   "metadata": {},
   "outputs": [
    {
     "data": {
      "image/png": "[encoded data removed]",
      "text/plain": [
       "<Figure size 432x288 with 1 Axes>"
      ]
     },
     "metadata": {
      "needs_background": "light"
     },
     "output_type": "display_data"
    }
   ],
   "source": [
    "#Plotting a graph to better visualise the data\n",
    "plt.title('Target variable Distribution')\n",
    "sns.countplot(new_dist_df['LICENSE STATUS'])\n",
    "plt.show()"
   ]
  },
  {
   "cell_type": "code",
   "execution_count": 36,
   "metadata": {},
   "outputs": [],
   "source": [
    "#Separation of dependent and independent variable columns\n",
    "X_data = new_dist_df.drop('LICENSE STATUS', axis=1)\n",
    "Y_data = new_dist_df['LICENSE STATUS']"
   ]
  },
  {
   "cell_type": "code",
   "execution_count": 37,
   "metadata": {},
   "outputs": [],
   "source": [
    "#Test-Train sets splitting\n",
    "from sklearn.model_selection import train_test_split\n",
    "x_train, x_test, y_train, y_test = train_test_split(X_data,Y_data, test_size = 0.30)"
   ]
  },
  {
   "cell_type": "code",
   "execution_count": 38,
   "metadata": {},
   "outputs": [
    {
     "name": "stdout",
     "output_type": "stream",
     "text": [
      "Accuracy: 92.36%\n"
     ]
    }
   ],
   "source": [
    "#Building a XGBoost Model\n",
    "from xgboost import XGBClassifier\n",
    "from sklearn.metrics import accuracy_score\n",
    "\n",
    "model = XGBClassifier(learning_rate=0.02, n_estimators=1000)\n",
    "model.fit(x_train, y_train)\n",
    "# make predictions for test data\n",
    "y_pred = model.predict(x_test)\n",
    "predictions = [round(value) for value in y_pred]\n",
    "# evaluate predictions\n",
    "accuracy = accuracy_score(y_test, predictions)\n",
    "print(\"Accuracy: %.2f%%\" % (accuracy * 100.0))"
   ]
  },
  {
   "cell_type": "code",
   "execution_count": 39,
   "metadata": {},
   "outputs": [],
   "source": [
    "# Predicting on the test dataset\n",
    "test_pred = model.predict(test_data)"
   ]
  },
  {
   "cell_type": "code",
   "execution_count": 40,
   "metadata": {},
   "outputs": [],
   "source": [
    "final_submission['LICENSE STATUS'] = test_pred"
   ]
  },
  {
   "cell_type": "code",
   "execution_count": 41,
   "metadata": {},
   "outputs": [],
   "source": [
    "\n",
    "final_submission['LICENSE STATUS'] = final_submission['LICENSE STATUS'].replace(0, 'AAI')\n",
    "final_submission['LICENSE STATUS'] = final_submission['LICENSE STATUS'].replace(1, 'AAC')\n",
    "final_submission['LICENSE STATUS'] = final_submission['LICENSE STATUS'].replace(2, 'REV')\n",
    "final_submission['LICENSE STATUS'] = final_submission['LICENSE STATUS'].replace(3, 'REA')\n",
    "final_submission['LICENSE STATUS'] = final_submission['LICENSE STATUS'].replace(4, 'INQ')"
   ]
  },
  {
   "cell_type": "code",
   "execution_count": 42,
   "metadata": {},
   "outputs": [],
   "source": [
    "#Saving file\n",
    "final_submission.to_csv('sample_submissions.csv', index=False)"
   ]
  }
 ],
 "metadata": {
  "kernelspec": {
   "display_name": "Python 3",
   "language": "python",
   "name": "python3"
  },
  "language_info": {
   "codemirror_mode": {
    "name": "ipython",
    "version": 3
   },
   "file_extension": ".py",
   "mimetype": "text/x-python",
   "name": "python",
   "nbconvert_exporter": "python",
   "pygments_lexer": "ipython3",
   "version": "3.7.6"
  }
 },
 "nbformat": 4,
 "nbformat_minor": 4
}
